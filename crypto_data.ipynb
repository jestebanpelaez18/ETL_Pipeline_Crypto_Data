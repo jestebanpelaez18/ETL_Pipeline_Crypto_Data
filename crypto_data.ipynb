{
 "cells": [
  {
   "attachments": {},
   "cell_type": "markdown",
   "metadata": {},
   "source": [
    "# Crypto Currency Data From CoinGecko API"
   ]
  },
  {
   "attachments": {},
   "cell_type": "markdown",
   "metadata": {},
   "source": [
    "## Packages"
   ]
  },
  {
   "cell_type": "code",
   "execution_count": 7,
   "metadata": {},
   "outputs": [
    {
     "name": "stdout",
     "output_type": "stream",
     "text": [
      "Requirement already satisfied: ipython-sql in /Users/jestebanpelaez/anaconda3/lib/python3.11/site-packages (0.5.0)\n",
      "Requirement already satisfied: prettytable in /Users/jestebanpelaez/anaconda3/lib/python3.11/site-packages (3.13.0)\n",
      "Requirement already satisfied: ipython in /Users/jestebanpelaez/anaconda3/lib/python3.11/site-packages (from ipython-sql) (8.15.0)\n",
      "Requirement already satisfied: sqlalchemy>=2.0 in /Users/jestebanpelaez/anaconda3/lib/python3.11/site-packages (from ipython-sql) (2.0.37)\n",
      "Requirement already satisfied: sqlparse in /Users/jestebanpelaez/anaconda3/lib/python3.11/site-packages (from ipython-sql) (0.5.3)\n",
      "Requirement already satisfied: six in /Users/jestebanpelaez/anaconda3/lib/python3.11/site-packages (from ipython-sql) (1.16.0)\n",
      "Requirement already satisfied: ipython-genutils in /Users/jestebanpelaez/anaconda3/lib/python3.11/site-packages (from ipython-sql) (0.2.0)\n",
      "Requirement already satisfied: wcwidth in /Users/jestebanpelaez/anaconda3/lib/python3.11/site-packages (from prettytable) (0.2.5)\n",
      "Requirement already satisfied: typing-extensions>=4.6.0 in /Users/jestebanpelaez/anaconda3/lib/python3.11/site-packages (from sqlalchemy>=2.0->ipython-sql) (4.7.1)\n",
      "Requirement already satisfied: backcall in /Users/jestebanpelaez/anaconda3/lib/python3.11/site-packages (from ipython->ipython-sql) (0.2.0)\n",
      "Requirement already satisfied: decorator in /Users/jestebanpelaez/anaconda3/lib/python3.11/site-packages (from ipython->ipython-sql) (5.1.1)\n",
      "Requirement already satisfied: jedi>=0.16 in /Users/jestebanpelaez/anaconda3/lib/python3.11/site-packages (from ipython->ipython-sql) (0.18.1)\n",
      "Requirement already satisfied: matplotlib-inline in /Users/jestebanpelaez/anaconda3/lib/python3.11/site-packages (from ipython->ipython-sql) (0.1.6)\n",
      "Requirement already satisfied: pickleshare in /Users/jestebanpelaez/anaconda3/lib/python3.11/site-packages (from ipython->ipython-sql) (0.7.5)\n",
      "Requirement already satisfied: prompt-toolkit!=3.0.37,<3.1.0,>=3.0.30 in /Users/jestebanpelaez/anaconda3/lib/python3.11/site-packages (from ipython->ipython-sql) (3.0.36)\n",
      "Requirement already satisfied: pygments>=2.4.0 in /Users/jestebanpelaez/anaconda3/lib/python3.11/site-packages (from ipython->ipython-sql) (2.15.1)\n",
      "Requirement already satisfied: stack-data in /Users/jestebanpelaez/anaconda3/lib/python3.11/site-packages (from ipython->ipython-sql) (0.2.0)\n",
      "Requirement already satisfied: traitlets>=5 in /Users/jestebanpelaez/anaconda3/lib/python3.11/site-packages (from ipython->ipython-sql) (5.7.1)\n",
      "Requirement already satisfied: pexpect>4.3 in /Users/jestebanpelaez/anaconda3/lib/python3.11/site-packages (from ipython->ipython-sql) (4.8.0)\n",
      "Requirement already satisfied: appnope in /Users/jestebanpelaez/anaconda3/lib/python3.11/site-packages (from ipython->ipython-sql) (0.1.2)\n",
      "Requirement already satisfied: parso<0.9.0,>=0.8.0 in /Users/jestebanpelaez/anaconda3/lib/python3.11/site-packages (from jedi>=0.16->ipython->ipython-sql) (0.8.3)\n",
      "Requirement already satisfied: ptyprocess>=0.5 in /Users/jestebanpelaez/anaconda3/lib/python3.11/site-packages (from pexpect>4.3->ipython->ipython-sql) (0.7.0)\n",
      "Requirement already satisfied: executing in /Users/jestebanpelaez/anaconda3/lib/python3.11/site-packages (from stack-data->ipython->ipython-sql) (0.8.3)\n",
      "Requirement already satisfied: asttokens in /Users/jestebanpelaez/anaconda3/lib/python3.11/site-packages (from stack-data->ipython->ipython-sql) (2.0.5)\n",
      "Requirement already satisfied: pure-eval in /Users/jestebanpelaez/anaconda3/lib/python3.11/site-packages (from stack-data->ipython->ipython-sql) (0.2.2)\n",
      "Note: you may need to restart the kernel to use updated packages.\n"
     ]
    }
   ],
   "source": [
    "%pip install ipython-sql prettytable"
   ]
  },
  {
   "attachments": {},
   "cell_type": "markdown",
   "metadata": {},
   "source": [
    "## Imported Libraries"
   ]
  },
  {
   "cell_type": "code",
   "execution_count": 19,
   "metadata": {},
   "outputs": [],
   "source": [
    "import pandas as pd\n",
    "import numpy as np\n",
    "from datetime import datetime\n",
    "import requests\n",
    "import prettytable\n",
    "prettytable.DEFAULT = 'DEFAULT'\n",
    "import sqlite3"
   ]
  },
  {
   "attachments": {},
   "cell_type": "markdown",
   "metadata": {},
   "source": [
    "## Log Progress Fuction"
   ]
  },
  {
   "cell_type": "code",
   "execution_count": 9,
   "metadata": {},
   "outputs": [],
   "source": [
    "def log_progress(message):\n",
    "    ''' This function logs the mentioned message of a given stage of the\n",
    "    code execution to a log file. Function returns nothing'''\n",
    "    timestamp_format='%Y-%h-%d-%H:%M:%S'\n",
    "    now = datetime.now()\n",
    "    timestamp = now.strftime(timestamp_format)\n",
    "    with open(\"./log_progress\",\"a\") as f:\n",
    "        f.write(f\"{timestamp}:{message}\" + '\\n')"
   ]
  },
  {
   "attachments": {},
   "cell_type": "markdown",
   "metadata": {},
   "source": [
    "## Extract Fuction"
   ]
  },
  {
   "attachments": {},
   "cell_type": "markdown",
   "metadata": {},
   "source": [
    "This function retrieves cryptocurrency data from the CoinGecko API and saves it to a pandas DataFrame. The returned DataFrame is formatted for further analysis or processing.\n",
    "\n",
    "Specifically, the function extracts information about the top 100 cryptocurrencies, including their ID, name, current price in USD, and market capitalization in USD."
   ]
  },
  {
   "cell_type": "code",
   "execution_count": 10,
   "metadata": {},
   "outputs": [],
   "source": [
    "def extract(url):    # sourcery skip: raise-specific-error\n",
    "    ''' This function aims to extract the required\n",
    "    information from the CoinGecko and save it to a data frame. The\n",
    "    function returns the data frame for further processing. '''\n",
    "    params = {  \n",
    "               'vs_currency': 'USD'\n",
    "    }\n",
    "    response = requests.get(url, params=params)\n",
    "    if response.status_code != 200:\n",
    "        raise Exception(f\"Failed to fetch data from API. Status code: {response.status_code}\")\n",
    "    data = response.json()\n",
    "    df = pd.DataFrame(data)\n",
    "    columns = ['id', 'name', 'current_price', 'market_cap']\n",
    "    return df[columns]"
   ]
  },
  {
   "attachments": {},
   "cell_type": "markdown",
   "metadata": {},
   "source": [
    "## Transform the current price and market cap to EUR and GBP"
   ]
  },
  {
   "attachments": {},
   "cell_type": "markdown",
   "metadata": {},
   "source": [
    "This function accesses a CSV file containing exchange rate information and adds three new columns to the DataFrame. These columns represent the transformed values of the 'Market Cap' and 'Current Price' columns into their respective currencies.\n",
    "\n",
    "The function utilizes the `exchange_rate.csv` file to obtain the current exchange rates for USD to EUR and USD to GBP\n"
   ]
  },
  {
   "cell_type": "code",
   "execution_count": 11,
   "metadata": {},
   "outputs": [],
   "source": [
    "def transform(df, csv_path):\n",
    "    ''' This function accesses the CSV file for exchange rate\n",
    "    information, and adds three columns to the data frame, each\n",
    "    containing the transformed version of Market Cap column to\n",
    "    respective currencies'''\n",
    "\n",
    "    # Get the exchange rate from the csv file\n",
    "    exchangerate_df = pd.read_csv(csv_path)\n",
    "    # Transform the exchange rate in the data frame to a dictionary, in order manipulate it.\n",
    "    exchange_rate = exchangerate_df.set_index('Currency').to_dict()['Rate']\n",
    "\n",
    "    # Added new columns\n",
    "    df['current_price_GBP'] = [np.round(x*exchange_rate['GBP'],2) for x in df['current_price']]\n",
    "    df['current_price_EUR'] = [np.round(x*exchange_rate['EUR'],2) for x in df['current_price']]\n",
    "    df['market_cap_GBP'] = [np.round(x*exchange_rate['GBP'],2) for x in df['market_cap']]\n",
    "    df['market_cap_EUR'] = [np.round(x*exchange_rate['EUR'],2) for x in df['market_cap']]\n",
    "    return df"
   ]
  },
  {
   "attachments": {},
   "cell_type": "markdown",
   "metadata": {},
   "source": [
    "## Load Fuctions"
   ]
  },
  {
   "attachments": {},
   "cell_type": "markdown",
   "metadata": {},
   "source": [
    "The firta function saves the final data frame as a CSV file in\n",
    "the provided path. Function returns nothing.\n",
    "\n",
    "The second fuction save saves the final data frame to a database\n",
    "table with the provided name. Function returns nothing."
   ]
  },
  {
   "attachments": {},
   "cell_type": "markdown",
   "metadata": {},
   "source": [
    "Additionally, we include the function `connection_to_database`, which establishes the connection to the database"
   ]
  },
  {
   "cell_type": "code",
   "execution_count": 12,
   "metadata": {},
   "outputs": [],
   "source": [
    "def load_to_csv(df,new_path):\n",
    "    df.to_csv(new_path)\n",
    "\n",
    "def conection_to_database(database_name):\n",
    "    try:\n",
    "        db_connection = sqlite3.connect(database_name)\n",
    "    except sqlite3.OperationalError as e:\n",
    "        raise e\n",
    "    else:\n",
    "        print(\"connected\")\n",
    "    return db_connection\n",
    "\n",
    "def load_to_db(df,sql_connection,table_name):\n",
    "        df.to_sql(table_name,sql_connection, if_exists='replace', index=False)\n"
   ]
  },
  {
   "attachments": {},
   "cell_type": "markdown",
   "metadata": {},
   "source": [
    "## ETL Procces"
   ]
  },
  {
   "attachments": {},
   "cell_type": "markdown",
   "metadata": {},
   "source": [
    "Now that we have all the required functions for this process, we can create a DataFrame based on the data extracted from the CoinGecko API, save it to a CSV file, and load it into a database for subsequent analysis."
   ]
  },
  {
   "attachments": {},
   "cell_type": "markdown",
   "metadata": {},
   "source": [
    "### Required variables"
   ]
  },
  {
   "cell_type": "code",
   "execution_count": 13,
   "metadata": {},
   "outputs": [],
   "source": [
    "api_url = \"https://api.coingecko.com/api/v3/coins/markets?x_cg_demo_api_key=CG-MbEY8jPE4gh6VQGrJrCCF5st\"\n",
    "exchange_rate_csv = './exchange_rate.csv'\n",
    "data_csv_path='./Crypto_Data.csv'\n",
    "db_name='CryptoData.db'\n",
    "table_name='Crypto_Data'\n",
    "log_progress(\"Variables are define. Intiating ETL process\")"
   ]
  },
  {
   "attachments": {},
   "cell_type": "markdown",
   "metadata": {},
   "source": [
    "Extract data from the api"
   ]
  },
  {
   "cell_type": "code",
   "execution_count": 14,
   "metadata": {},
   "outputs": [],
   "source": [
    "df = extract(api_url)\n",
    "df\n",
    "log_progress(\"Extracted crypto data from CoinGecko API\")"
   ]
  },
  {
   "attachments": {},
   "cell_type": "markdown",
   "metadata": {},
   "source": [
    "Transforming Data as required. In this case we are going to transform the market cap and current price, which is in USD to EUR and GBP"
   ]
  },
  {
   "cell_type": "code",
   "execution_count": 15,
   "metadata": {},
   "outputs": [
    {
     "data": {
      "text/html": [
       "<div>\n",
       "<style scoped>\n",
       "    .dataframe tbody tr th:only-of-type {\n",
       "        vertical-align: middle;\n",
       "    }\n",
       "\n",
       "    .dataframe tbody tr th {\n",
       "        vertical-align: top;\n",
       "    }\n",
       "\n",
       "    .dataframe thead th {\n",
       "        text-align: right;\n",
       "    }\n",
       "</style>\n",
       "<table border=\"1\" class=\"dataframe\">\n",
       "  <thead>\n",
       "    <tr style=\"text-align: right;\">\n",
       "      <th></th>\n",
       "      <th>id</th>\n",
       "      <th>name</th>\n",
       "      <th>current_price</th>\n",
       "      <th>market_cap</th>\n",
       "      <th>current_price_GBP</th>\n",
       "      <th>current_price_EUR</th>\n",
       "      <th>market_cap_GBP</th>\n",
       "      <th>market_cap_EUR</th>\n",
       "    </tr>\n",
       "  </thead>\n",
       "  <tbody>\n",
       "    <tr>\n",
       "      <th>0</th>\n",
       "      <td>bitcoin</td>\n",
       "      <td>Bitcoin</td>\n",
       "      <td>102487.000000</td>\n",
       "      <td>2028043916372</td>\n",
       "      <td>81989.60</td>\n",
       "      <td>97362.65</td>\n",
       "      <td>1.622435e+12</td>\n",
       "      <td>1.926642e+12</td>\n",
       "    </tr>\n",
       "    <tr>\n",
       "      <th>1</th>\n",
       "      <td>ethereum</td>\n",
       "      <td>Ethereum</td>\n",
       "      <td>3125.310000</td>\n",
       "      <td>376454750206</td>\n",
       "      <td>2500.25</td>\n",
       "      <td>2969.04</td>\n",
       "      <td>3.011638e+11</td>\n",
       "      <td>3.576320e+11</td>\n",
       "    </tr>\n",
       "    <tr>\n",
       "      <th>2</th>\n",
       "      <td>ripple</td>\n",
       "      <td>XRP</td>\n",
       "      <td>3.080000</td>\n",
       "      <td>177459935026</td>\n",
       "      <td>2.46</td>\n",
       "      <td>2.93</td>\n",
       "      <td>1.419679e+11</td>\n",
       "      <td>1.685869e+11</td>\n",
       "    </tr>\n",
       "    <tr>\n",
       "      <th>3</th>\n",
       "      <td>tether</td>\n",
       "      <td>Tether</td>\n",
       "      <td>0.999547</td>\n",
       "      <td>139404668728</td>\n",
       "      <td>0.80</td>\n",
       "      <td>0.95</td>\n",
       "      <td>1.115237e+11</td>\n",
       "      <td>1.324344e+11</td>\n",
       "    </tr>\n",
       "    <tr>\n",
       "      <th>4</th>\n",
       "      <td>solana</td>\n",
       "      <td>Solana</td>\n",
       "      <td>230.460000</td>\n",
       "      <td>112115003667</td>\n",
       "      <td>184.37</td>\n",
       "      <td>218.94</td>\n",
       "      <td>8.969200e+10</td>\n",
       "      <td>1.065093e+11</td>\n",
       "    </tr>\n",
       "    <tr>\n",
       "      <th>...</th>\n",
       "      <td>...</td>\n",
       "      <td>...</td>\n",
       "      <td>...</td>\n",
       "      <td>...</td>\n",
       "      <td>...</td>\n",
       "      <td>...</td>\n",
       "      <td>...</td>\n",
       "      <td>...</td>\n",
       "    </tr>\n",
       "    <tr>\n",
       "      <th>95</th>\n",
       "      <td>usual-usd</td>\n",
       "      <td>Usual USD</td>\n",
       "      <td>0.997792</td>\n",
       "      <td>1204780556</td>\n",
       "      <td>0.80</td>\n",
       "      <td>0.95</td>\n",
       "      <td>9.638244e+08</td>\n",
       "      <td>1.144542e+09</td>\n",
       "    </tr>\n",
       "    <tr>\n",
       "      <th>96</th>\n",
       "      <td>floki</td>\n",
       "      <td>FLOKI</td>\n",
       "      <td>0.000122</td>\n",
       "      <td>1183897310</td>\n",
       "      <td>0.00</td>\n",
       "      <td>0.00</td>\n",
       "      <td>9.471178e+08</td>\n",
       "      <td>1.124702e+09</td>\n",
       "    </tr>\n",
       "    <tr>\n",
       "      <th>97</th>\n",
       "      <td>jasmycoin</td>\n",
       "      <td>JasmyCoin</td>\n",
       "      <td>0.024331</td>\n",
       "      <td>1177639659</td>\n",
       "      <td>0.02</td>\n",
       "      <td>0.02</td>\n",
       "      <td>9.421117e+08</td>\n",
       "      <td>1.118758e+09</td>\n",
       "    </tr>\n",
       "    <tr>\n",
       "      <th>98</th>\n",
       "      <td>eos</td>\n",
       "      <td>EOS</td>\n",
       "      <td>0.736423</td>\n",
       "      <td>1116828098</td>\n",
       "      <td>0.59</td>\n",
       "      <td>0.70</td>\n",
       "      <td>8.934625e+08</td>\n",
       "      <td>1.060987e+09</td>\n",
       "    </tr>\n",
       "    <tr>\n",
       "      <th>99</th>\n",
       "      <td>tezos</td>\n",
       "      <td>Tezos</td>\n",
       "      <td>1.074000</td>\n",
       "      <td>1103124561</td>\n",
       "      <td>0.86</td>\n",
       "      <td>1.02</td>\n",
       "      <td>8.824996e+08</td>\n",
       "      <td>1.047968e+09</td>\n",
       "    </tr>\n",
       "  </tbody>\n",
       "</table>\n",
       "<p>100 rows × 8 columns</p>\n",
       "</div>"
      ],
      "text/plain": [
       "           id       name  current_price     market_cap  current_price_GBP  \\\n",
       "0     bitcoin    Bitcoin  102487.000000  2028043916372           81989.60   \n",
       "1    ethereum   Ethereum    3125.310000   376454750206            2500.25   \n",
       "2      ripple        XRP       3.080000   177459935026               2.46   \n",
       "3      tether     Tether       0.999547   139404668728               0.80   \n",
       "4      solana     Solana     230.460000   112115003667             184.37   \n",
       "..        ...        ...            ...            ...                ...   \n",
       "95  usual-usd  Usual USD       0.997792     1204780556               0.80   \n",
       "96      floki      FLOKI       0.000122     1183897310               0.00   \n",
       "97  jasmycoin  JasmyCoin       0.024331     1177639659               0.02   \n",
       "98        eos        EOS       0.736423     1116828098               0.59   \n",
       "99      tezos      Tezos       1.074000     1103124561               0.86   \n",
       "\n",
       "    current_price_EUR  market_cap_GBP  market_cap_EUR  \n",
       "0            97362.65    1.622435e+12    1.926642e+12  \n",
       "1             2969.04    3.011638e+11    3.576320e+11  \n",
       "2                2.93    1.419679e+11    1.685869e+11  \n",
       "3                0.95    1.115237e+11    1.324344e+11  \n",
       "4              218.94    8.969200e+10    1.065093e+11  \n",
       "..                ...             ...             ...  \n",
       "95               0.95    9.638244e+08    1.144542e+09  \n",
       "96               0.00    9.471178e+08    1.124702e+09  \n",
       "97               0.02    9.421117e+08    1.118758e+09  \n",
       "98               0.70    8.934625e+08    1.060987e+09  \n",
       "99               1.02    8.824996e+08    1.047968e+09  \n",
       "\n",
       "[100 rows x 8 columns]"
      ]
     },
     "execution_count": 15,
     "metadata": {},
     "output_type": "execute_result"
    }
   ],
   "source": [
    "df = transform(df, exchange_rate_csv)\n",
    "df"
   ]
  },
  {
   "attachments": {},
   "cell_type": "markdown",
   "metadata": {},
   "source": [
    "## Loading data"
   ]
  },
  {
   "attachments": {},
   "cell_type": "markdown",
   "metadata": {},
   "source": [
    "Now we are saving the data to a new CSV file and loading it into the database."
   ]
  },
  {
   "cell_type": "code",
   "execution_count": 16,
   "metadata": {},
   "outputs": [],
   "source": [
    "load_to_csv(df,data_csv_path)"
   ]
  },
  {
   "attachments": {},
   "cell_type": "markdown",
   "metadata": {},
   "source": [
    "This generates a new CSV file in the current working directory containing cryptocurrency data extracted from the CoinGecko API. Next step is going to be load the data in to a Database."
   ]
  },
  {
   "cell_type": "code",
   "execution_count": 17,
   "metadata": {},
   "outputs": [
    {
     "name": "stdout",
     "output_type": "stream",
     "text": [
      "connected\n"
     ]
    }
   ],
   "source": [
    "conn = conection_to_database(db_name)\n",
    "# In order to execute SQL statements and fetch results from SQL queries, we will need to use a database cursor.\n",
    "curs = conn.cursor()\n",
    "load_to_db(df,conn,table_name)"
   ]
  },
  {
   "attachments": {},
   "cell_type": "markdown",
   "metadata": {},
   "source": [
    "## Querying"
   ]
  },
  {
   "attachments": {},
   "cell_type": "markdown",
   "metadata": {},
   "source": [
    "Now that we have establish the connection with the database, we stablish a connection between SQL magic module and the database CrytoData.db, in order to run queries in jupyter notebook"
   ]
  },
  {
   "cell_type": "code",
   "execution_count": 28,
   "metadata": {},
   "outputs": [
    {
     "name": "stdout",
     "output_type": "stream",
     "text": [
      "The sql extension is already loaded. To reload it, use:\n",
      "  %reload_ext sql\n"
     ]
    }
   ],
   "source": [
    "%load_ext sql\n",
    "%sql sqlite:///CryptoData.db"
   ]
  },
  {
   "attachments": {},
   "cell_type": "markdown",
   "metadata": {},
   "source": [
    "### Running Queries"
   ]
  },
  {
   "attachments": {},
   "cell_type": "markdown",
   "metadata": {},
   "source": [
    "Check if the table exist"
   ]
  },
  {
   "cell_type": "code",
   "execution_count": 29,
   "metadata": {},
   "outputs": [
    {
     "name": "stdout",
     "output_type": "stream",
     "text": [
      " * sqlite:///CryptoData.db\n",
      "Done.\n"
     ]
    },
    {
     "data": {
      "text/html": [
       "<table>\n",
       "    <thead>\n",
       "        <tr>\n",
       "            <th>name</th>\n",
       "        </tr>\n",
       "    </thead>\n",
       "    <tbody>\n",
       "        <tr>\n",
       "            <td>Crypto_Data</td>\n",
       "        </tr>\n",
       "    </tbody>\n",
       "</table>"
      ],
      "text/plain": [
       "[('Crypto_Data',)]"
      ]
     },
     "execution_count": 29,
     "metadata": {},
     "output_type": "execute_result"
    }
   ],
   "source": [
    "%sql SELECT name FROM sqlite_master WHERE type='table'"
   ]
  },
  {
   "attachments": {},
   "cell_type": "markdown",
   "metadata": {},
   "source": [
    "Check the number of rows"
   ]
  },
  {
   "cell_type": "code",
   "execution_count": 30,
   "metadata": {},
   "outputs": [
    {
     "name": "stdout",
     "output_type": "stream",
     "text": [
      " * sqlite:///CryptoData.db\n",
      "Done.\n"
     ]
    },
    {
     "data": {
      "text/html": [
       "<table>\n",
       "    <thead>\n",
       "        <tr>\n",
       "            <th>count(name)</th>\n",
       "        </tr>\n",
       "    </thead>\n",
       "    <tbody>\n",
       "        <tr>\n",
       "            <td>8</td>\n",
       "        </tr>\n",
       "    </tbody>\n",
       "</table>"
      ],
      "text/plain": [
       "[(8,)]"
      ]
     },
     "execution_count": 30,
     "metadata": {},
     "output_type": "execute_result"
    }
   ],
   "source": [
    "%sql SELECT count(name) FROM PRAGMA_TABLE_INFO('Crypto_Data')"
   ]
  },
  {
   "attachments": {},
   "cell_type": "markdown",
   "metadata": {},
   "source": [
    "Check name of the columns"
   ]
  },
  {
   "cell_type": "code",
   "execution_count": 31,
   "metadata": {},
   "outputs": [
    {
     "name": "stdout",
     "output_type": "stream",
     "text": [
      " * sqlite:///CryptoData.db\n",
      "Done.\n"
     ]
    },
    {
     "data": {
      "text/html": [
       "<table>\n",
       "    <thead>\n",
       "        <tr>\n",
       "            <th>name</th>\n",
       "            <th>type</th>\n",
       "        </tr>\n",
       "    </thead>\n",
       "    <tbody>\n",
       "        <tr>\n",
       "            <td>id</td>\n",
       "            <td>TEXT</td>\n",
       "        </tr>\n",
       "        <tr>\n",
       "            <td>name</td>\n",
       "            <td>TEXT</td>\n",
       "        </tr>\n",
       "        <tr>\n",
       "            <td>current_price</td>\n",
       "            <td>REAL</td>\n",
       "        </tr>\n",
       "        <tr>\n",
       "            <td>market_cap</td>\n",
       "            <td>INTEGER</td>\n",
       "        </tr>\n",
       "        <tr>\n",
       "            <td>current_price_GBP</td>\n",
       "            <td>REAL</td>\n",
       "        </tr>\n",
       "        <tr>\n",
       "            <td>current_price_EUR</td>\n",
       "            <td>REAL</td>\n",
       "        </tr>\n",
       "        <tr>\n",
       "            <td>market_cap_GBP</td>\n",
       "            <td>REAL</td>\n",
       "        </tr>\n",
       "        <tr>\n",
       "            <td>market_cap_EUR</td>\n",
       "            <td>REAL</td>\n",
       "        </tr>\n",
       "    </tbody>\n",
       "</table>"
      ],
      "text/plain": [
       "[('id', 'TEXT'),\n",
       " ('name', 'TEXT'),\n",
       " ('current_price', 'REAL'),\n",
       " ('market_cap', 'INTEGER'),\n",
       " ('current_price_GBP', 'REAL'),\n",
       " ('current_price_EUR', 'REAL'),\n",
       " ('market_cap_GBP', 'REAL'),\n",
       " ('market_cap_EUR', 'REAL')]"
      ]
     },
     "execution_count": 31,
     "metadata": {},
     "output_type": "execute_result"
    }
   ],
   "source": [
    "%sql SELECT name,type from PRAGMA_TABLE_INFO('Crypto_Data')"
   ]
  },
  {
   "attachments": {},
   "cell_type": "markdown",
   "metadata": {},
   "source": [
    "List of the total coins"
   ]
  },
  {
   "cell_type": "code",
   "execution_count": 33,
   "metadata": {},
   "outputs": [
    {
     "name": "stdout",
     "output_type": "stream",
     "text": [
      " * sqlite:///CryptoData.db\n",
      "Done.\n"
     ]
    },
    {
     "data": {
      "text/html": [
       "<table>\n",
       "    <thead>\n",
       "        <tr>\n",
       "            <th>count(*)</th>\n",
       "        </tr>\n",
       "    </thead>\n",
       "    <tbody>\n",
       "        <tr>\n",
       "            <td>100</td>\n",
       "        </tr>\n",
       "    </tbody>\n",
       "</table>"
      ],
      "text/plain": [
       "[(100,)]"
      ]
     },
     "execution_count": 33,
     "metadata": {},
     "output_type": "execute_result"
    }
   ],
   "source": [
    "%sql SELECT count(*) FROM Crypto_Data"
   ]
  },
  {
   "attachments": {},
   "cell_type": "markdown",
   "metadata": {},
   "source": [
    "Lets list 10 coins with a current_price less than 1 USD"
   ]
  },
  {
   "cell_type": "code",
   "execution_count": 35,
   "metadata": {},
   "outputs": [
    {
     "name": "stdout",
     "output_type": "stream",
     "text": [
      " * sqlite:///CryptoData.db\n",
      "Done.\n"
     ]
    },
    {
     "data": {
      "text/html": [
       "<table>\n",
       "    <thead>\n",
       "        <tr>\n",
       "            <th>name</th>\n",
       "            <th>current_price</th>\n",
       "        </tr>\n",
       "    </thead>\n",
       "    <tbody>\n",
       "        <tr>\n",
       "            <td>Tether</td>\n",
       "            <td>0.999547</td>\n",
       "        </tr>\n",
       "        <tr>\n",
       "            <td>USDC</td>\n",
       "            <td>0.999996</td>\n",
       "        </tr>\n",
       "        <tr>\n",
       "            <td>Dogecoin</td>\n",
       "            <td>0.327296</td>\n",
       "        </tr>\n",
       "        <tr>\n",
       "            <td>Cardano</td>\n",
       "            <td>0.929199</td>\n",
       "        </tr>\n",
       "        <tr>\n",
       "            <td>TRON</td>\n",
       "            <td>0.240796</td>\n",
       "        </tr>\n",
       "        <tr>\n",
       "            <td>Stellar</td>\n",
       "            <td>0.396426</td>\n",
       "        </tr>\n",
       "        <tr>\n",
       "            <td>Hedera</td>\n",
       "            <td>0.30814</td>\n",
       "        </tr>\n",
       "        <tr>\n",
       "            <td>Shiba Inu</td>\n",
       "            <td>1.835e-05</td>\n",
       "        </tr>\n",
       "        <tr>\n",
       "            <td>Pepe</td>\n",
       "            <td>1.261e-05</td>\n",
       "        </tr>\n",
       "        <tr>\n",
       "            <td>Dai</td>\n",
       "            <td>0.999393</td>\n",
       "        </tr>\n",
       "    </tbody>\n",
       "</table>"
      ],
      "text/plain": [
       "[('Tether', 0.999547),\n",
       " ('USDC', 0.999996),\n",
       " ('Dogecoin', 0.327296),\n",
       " ('Cardano', 0.929199),\n",
       " ('TRON', 0.240796),\n",
       " ('Stellar', 0.396426),\n",
       " ('Hedera', 0.30814),\n",
       " ('Shiba Inu', 1.835e-05),\n",
       " ('Pepe', 1.261e-05),\n",
       " ('Dai', 0.999393)]"
      ]
     },
     "execution_count": 35,
     "metadata": {},
     "output_type": "execute_result"
    }
   ],
   "source": [
    "%sql SELECT name, current_price FROM Crypto_Data WHERE current_price < 1 LIMIT 10 "
   ]
  },
  {
   "attachments": {},
   "cell_type": "markdown",
   "metadata": {},
   "source": [
    "List all the coins that have the word 'Coin' in his name"
   ]
  },
  {
   "cell_type": "code",
   "execution_count": 38,
   "metadata": {},
   "outputs": [
    {
     "name": "stdout",
     "output_type": "stream",
     "text": [
      " * sqlite:///CryptoData.db\n",
      "Done.\n"
     ]
    },
    {
     "data": {
      "text/html": [
       "<table>\n",
       "    <thead>\n",
       "        <tr>\n",
       "            <th>name</th>\n",
       "        </tr>\n",
       "    </thead>\n",
       "    <tbody>\n",
       "        <tr>\n",
       "            <td>Bitcoin</td>\n",
       "        </tr>\n",
       "        <tr>\n",
       "            <td>Dogecoin</td>\n",
       "        </tr>\n",
       "        <tr>\n",
       "            <td>Wrapped Bitcoin</td>\n",
       "        </tr>\n",
       "        <tr>\n",
       "            <td>Toncoin</td>\n",
       "        </tr>\n",
       "        <tr>\n",
       "            <td>Litecoin</td>\n",
       "        </tr>\n",
       "        <tr>\n",
       "            <td>Bitcoin Cash</td>\n",
       "        </tr>\n",
       "        <tr>\n",
       "            <td>WhiteBIT Coin</td>\n",
       "        </tr>\n",
       "        <tr>\n",
       "            <td>Filecoin</td>\n",
       "        </tr>\n",
       "        <tr>\n",
       "            <td>Coinbase Wrapped BTC</td>\n",
       "        </tr>\n",
       "        <tr>\n",
       "            <td>Worldcoin</td>\n",
       "        </tr>\n",
       "        <tr>\n",
       "            <td>KuCoin</td>\n",
       "        </tr>\n",
       "        <tr>\n",
       "            <td>JasmyCoin</td>\n",
       "        </tr>\n",
       "    </tbody>\n",
       "</table>"
      ],
      "text/plain": [
       "[('Bitcoin',),\n",
       " ('Dogecoin',),\n",
       " ('Wrapped Bitcoin',),\n",
       " ('Toncoin',),\n",
       " ('Litecoin',),\n",
       " ('Bitcoin Cash',),\n",
       " ('WhiteBIT Coin',),\n",
       " ('Filecoin',),\n",
       " ('Coinbase Wrapped BTC',),\n",
       " ('Worldcoin',),\n",
       " ('KuCoin',),\n",
       " ('JasmyCoin',)]"
      ]
     },
     "execution_count": 38,
     "metadata": {},
     "output_type": "execute_result"
    }
   ],
   "source": [
    "%sql SELECT name FROM Crypto_Data WHERE name LIKE '%coin%'"
   ]
  },
  {
   "attachments": {},
   "cell_type": "markdown",
   "metadata": {},
   "source": [
    "List last 10 Coins by Market Cap"
   ]
  },
  {
   "cell_type": "code",
   "execution_count": 66,
   "metadata": {},
   "outputs": [
    {
     "name": "stdout",
     "output_type": "stream",
     "text": [
      " * sqlite:///CryptoData.db\n",
      "Done.\n"
     ]
    },
    {
     "data": {
      "text/html": [
       "<table>\n",
       "    <thead>\n",
       "        <tr>\n",
       "            <th>id</th>\n",
       "            <th>name</th>\n",
       "            <th>current_price</th>\n",
       "            <th>market_cap</th>\n",
       "            <th>current_price_GBP</th>\n",
       "            <th>current_price_EUR</th>\n",
       "            <th>market_cap_GBP</th>\n",
       "            <th>market_cap_EUR</th>\n",
       "        </tr>\n",
       "    </thead>\n",
       "    <tbody>\n",
       "        <tr>\n",
       "            <td>tezos</td>\n",
       "            <td>Tezos</td>\n",
       "            <td>1.074</td>\n",
       "            <td>1103124561</td>\n",
       "            <td>0.86</td>\n",
       "            <td>1.02</td>\n",
       "            <td>882499648.8</td>\n",
       "            <td>1047968332.95</td>\n",
       "        </tr>\n",
       "        <tr>\n",
       "            <td>eos</td>\n",
       "            <td>EOS</td>\n",
       "            <td>0.736423</td>\n",
       "            <td>1116828098</td>\n",
       "            <td>0.59</td>\n",
       "            <td>0.7</td>\n",
       "            <td>893462478.4</td>\n",
       "            <td>1060986693.1</td>\n",
       "        </tr>\n",
       "        <tr>\n",
       "            <td>jasmycoin</td>\n",
       "            <td>JasmyCoin</td>\n",
       "            <td>0.02433147</td>\n",
       "            <td>1177639659</td>\n",
       "            <td>0.02</td>\n",
       "            <td>0.02</td>\n",
       "            <td>942111727.2</td>\n",
       "            <td>1118757676.05</td>\n",
       "        </tr>\n",
       "        <tr>\n",
       "            <td>floki</td>\n",
       "            <td>FLOKI</td>\n",
       "            <td>0.00012234</td>\n",
       "            <td>1183897310</td>\n",
       "            <td>0.0</td>\n",
       "            <td>0.0</td>\n",
       "            <td>947117848.0</td>\n",
       "            <td>1124702444.5</td>\n",
       "        </tr>\n",
       "        <tr>\n",
       "            <td>usual-usd</td>\n",
       "            <td>Usual USD</td>\n",
       "            <td>0.997792</td>\n",
       "            <td>1204780556</td>\n",
       "            <td>0.8</td>\n",
       "            <td>0.95</td>\n",
       "            <td>963824444.8</td>\n",
       "            <td>1144541528.2</td>\n",
       "        </tr>\n",
       "        <tr>\n",
       "            <td>msol</td>\n",
       "            <td>Marinade Staked SOL</td>\n",
       "            <td>290.72</td>\n",
       "            <td>1229762263</td>\n",
       "            <td>232.58</td>\n",
       "            <td>276.18</td>\n",
       "            <td>983809810.4</td>\n",
       "            <td>1168274149.85</td>\n",
       "        </tr>\n",
       "        <tr>\n",
       "            <td>gala</td>\n",
       "            <td>GALA</td>\n",
       "            <td>0.02889723</td>\n",
       "            <td>1230470973</td>\n",
       "            <td>0.02</td>\n",
       "            <td>0.03</td>\n",
       "            <td>984376778.4</td>\n",
       "            <td>1168947424.35</td>\n",
       "        </tr>\n",
       "        <tr>\n",
       "            <td>the-sandbox</td>\n",
       "            <td>The Sandbox</td>\n",
       "            <td>0.511929</td>\n",
       "            <td>1251793921</td>\n",
       "            <td>0.41</td>\n",
       "            <td>0.49</td>\n",
       "            <td>1001435136.8</td>\n",
       "            <td>1189204224.95</td>\n",
       "        </tr>\n",
       "        <tr>\n",
       "            <td>virtual-protocol</td>\n",
       "            <td>Virtuals Protocol</td>\n",
       "            <td>1.98</td>\n",
       "            <td>1277657535</td>\n",
       "            <td>1.58</td>\n",
       "            <td>1.88</td>\n",
       "            <td>1022126028.0</td>\n",
       "            <td>1213774658.25</td>\n",
       "        </tr>\n",
       "        <tr>\n",
       "            <td>dogwifcoin</td>\n",
       "            <td>dogwifhat</td>\n",
       "            <td>1.33</td>\n",
       "            <td>1325285406</td>\n",
       "            <td>1.06</td>\n",
       "            <td>1.26</td>\n",
       "            <td>1060228324.8</td>\n",
       "            <td>1259021135.7</td>\n",
       "        </tr>\n",
       "    </tbody>\n",
       "</table>"
      ],
      "text/plain": [
       "[('tezos', 'Tezos', 1.074, 1103124561, 0.86, 1.02, 882499648.8, 1047968332.95),\n",
       " ('eos', 'EOS', 0.736423, 1116828098, 0.59, 0.7, 893462478.4, 1060986693.1),\n",
       " ('jasmycoin', 'JasmyCoin', 0.02433147, 1177639659, 0.02, 0.02, 942111727.2, 1118757676.05),\n",
       " ('floki', 'FLOKI', 0.00012234, 1183897310, 0.0, 0.0, 947117848.0, 1124702444.5),\n",
       " ('usual-usd', 'Usual USD', 0.997792, 1204780556, 0.8, 0.95, 963824444.8, 1144541528.2),\n",
       " ('msol', 'Marinade Staked SOL', 290.72, 1229762263, 232.58, 276.18, 983809810.4, 1168274149.85),\n",
       " ('gala', 'GALA', 0.02889723, 1230470973, 0.02, 0.03, 984376778.4, 1168947424.35),\n",
       " ('the-sandbox', 'The Sandbox', 0.511929, 1251793921, 0.41, 0.49, 1001435136.8, 1189204224.95),\n",
       " ('virtual-protocol', 'Virtuals Protocol', 1.98, 1277657535, 1.58, 1.88, 1022126028.0, 1213774658.25),\n",
       " ('dogwifcoin', 'dogwifhat', 1.33, 1325285406, 1.06, 1.26, 1060228324.8, 1259021135.7)]"
      ]
     },
     "execution_count": 66,
     "metadata": {},
     "output_type": "execute_result"
    }
   ],
   "source": [
    "%sql SELECT * FROM crypto_data ORDER BY market_cap LIMIT 10"
   ]
  },
  {
   "attachments": {},
   "cell_type": "markdown",
   "metadata": {},
   "source": [
    "List Average Current Price of last 10 coins"
   ]
  },
  {
   "cell_type": "code",
   "execution_count": 70,
   "metadata": {},
   "outputs": [
    {
     "name": "stdout",
     "output_type": "stream",
     "text": [
      " * sqlite:///CryptoData.db\n",
      "Done.\n"
     ]
    },
    {
     "data": {
      "text/html": [
       "<table>\n",
       "    <thead>\n",
       "        <tr>\n",
       "            <th>AVERAGE_PRICE_10</th>\n",
       "        </tr>\n",
       "    </thead>\n",
       "    <tbody>\n",
       "        <tr>\n",
       "            <td>29.740349504</td>\n",
       "        </tr>\n",
       "    </tbody>\n",
       "</table>"
      ],
      "text/plain": [
       "[(29.740349504,)]"
      ]
     },
     "execution_count": 70,
     "metadata": {},
     "output_type": "execute_result"
    }
   ],
   "source": [
    "%sql SELECT AVG(current_price) as AVERAGE_PRICE_10 FROM( SELECT current_price FROM crypto_data ORDER BY market_cap LIMIT 10)"
   ]
  }
 ],
 "metadata": {
  "kernelspec": {
   "display_name": "base",
   "language": "python",
   "name": "python3"
  },
  "language_info": {
   "codemirror_mode": {
    "name": "ipython",
    "version": 3
   },
   "file_extension": ".py",
   "mimetype": "text/x-python",
   "name": "python",
   "nbconvert_exporter": "python",
   "pygments_lexer": "ipython3",
   "version": "3.11.5"
  },
  "orig_nbformat": 4,
  "vscode": {
   "interpreter": {
    "hash": "b0faa2996cdc2ec397ec18f3fcb31310a866f07fb5fcfee33b54fc5dcb8ef537"
   }
  }
 },
 "nbformat": 4,
 "nbformat_minor": 2
}
