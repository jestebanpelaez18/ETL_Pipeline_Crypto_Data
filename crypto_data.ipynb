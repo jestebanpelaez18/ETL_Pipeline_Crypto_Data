{
 "cells": [
  {
   "attachments": {},
   "cell_type": "markdown",
   "metadata": {},
   "source": [
    "# Crypto Currency Data From CoinGecko API"
   ]
  },
  {
   "attachments": {},
   "cell_type": "markdown",
   "metadata": {},
   "source": [
    "## Imported Libraries"
   ]
  },
  {
   "cell_type": "code",
   "execution_count": 1,
   "metadata": {},
   "outputs": [],
   "source": [
    "import pandas as pd\n",
    "import numpy as np\n",
    "from datetime import datetime\n",
    "import requests\n",
    "from bs4 import BeautifulSoup"
   ]
  },
  {
   "attachments": {},
   "cell_type": "markdown",
   "metadata": {},
   "source": [
    "## Log Progress Fuction"
   ]
  },
  {
   "cell_type": "code",
   "execution_count": null,
   "metadata": {},
   "outputs": [],
   "source": [
    "def log_progress(message):\n",
    "    ''' This function logs the mentioned message of a given stage of the\n",
    "    code execution to a log file. Function returns nothing'''\n",
    "    timestamp_format='%Y-%h-%d-%H:%M:%S'\n",
    "    now = datetime.now()\n",
    "    timestamp = now.strftime(timestamp_format)\n",
    "    with open(\"./log_progress\",\"a\") as f:\n",
    "        f.write(timestamp + \":\" + message + '\\n')"
   ]
  },
  {
   "attachments": {},
   "cell_type": "markdown",
   "metadata": {},
   "source": [
    "## Extract Fuction"
   ]
  },
  {
   "cell_type": "code",
   "execution_count": null,
   "metadata": {},
   "outputs": [],
   "source": [
    "def extract(url):\n",
    "    ''' This function aims to extract the required\n",
    "    information from the CoinGecko and save it to a data frame. The\n",
    "    function returns the data frame for further processing. '''\n",
    "    # url = \" https://api.coingecko.com/api/v3//coins/markets?x_cg_demo_api_key=CG-MbEY8jPE4gh6VQGrJrCCF5st\"\n",
    "    params = {  \n",
    "               'vs_currency': 'USD'\n",
    "    }\n",
    "    response = requests.get(url, params=params)\n",
    "    if(response.status_code == 200):\n",
    "        data = response.json()\n",
    "        # print(data)\n",
    "        df = pd.DataFrame(data)\n",
    "        print(df)\n",
    "    else:\n",
    "        print(\"Failed to fetch data from API\")\n",
    "\n",
    "extract(\"https://api.coingecko.com/api/v3/coins/markets?x_cg_demo_api_key=CG-MbEY8jPE4gh6VQGrJrCCF5st\")"
   ]
  }
 ],
 "metadata": {
  "kernelspec": {
   "display_name": "base",
   "language": "python",
   "name": "python3"
  },
  "language_info": {
   "codemirror_mode": {
    "name": "ipython",
    "version": 3
   },
   "file_extension": ".py",
   "mimetype": "text/x-python",
   "name": "python",
   "nbconvert_exporter": "python",
   "pygments_lexer": "ipython3",
   "version": "3.11.5"
  },
  "orig_nbformat": 4,
  "vscode": {
   "interpreter": {
    "hash": "b0faa2996cdc2ec397ec18f3fcb31310a866f07fb5fcfee33b54fc5dcb8ef537"
   }
  }
 },
 "nbformat": 4,
 "nbformat_minor": 2
}
