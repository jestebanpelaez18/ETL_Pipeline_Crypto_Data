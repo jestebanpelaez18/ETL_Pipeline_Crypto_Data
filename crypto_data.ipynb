{
 "cells": [
  {
   "attachments": {},
   "cell_type": "markdown",
   "metadata": {},
   "source": [
    "# Crypto Currency Data From CoinGecko API"
   ]
  },
  {
   "attachments": {},
   "cell_type": "markdown",
   "metadata": {},
   "source": [
    "## Packages"
   ]
  },
  {
   "cell_type": "code",
   "execution_count": 7,
   "metadata": {},
   "outputs": [
    {
     "name": "stdout",
     "output_type": "stream",
     "text": [
      "Requirement already satisfied: ipython-sql in /Users/jestebanpelaez/anaconda3/lib/python3.11/site-packages (0.5.0)\n",
      "Requirement already satisfied: prettytable in /Users/jestebanpelaez/anaconda3/lib/python3.11/site-packages (3.13.0)\n",
      "Requirement already satisfied: ipython in /Users/jestebanpelaez/anaconda3/lib/python3.11/site-packages (from ipython-sql) (8.15.0)\n",
      "Requirement already satisfied: sqlalchemy>=2.0 in /Users/jestebanpelaez/anaconda3/lib/python3.11/site-packages (from ipython-sql) (2.0.37)\n",
      "Requirement already satisfied: sqlparse in /Users/jestebanpelaez/anaconda3/lib/python3.11/site-packages (from ipython-sql) (0.5.3)\n",
      "Requirement already satisfied: six in /Users/jestebanpelaez/anaconda3/lib/python3.11/site-packages (from ipython-sql) (1.16.0)\n",
      "Requirement already satisfied: ipython-genutils in /Users/jestebanpelaez/anaconda3/lib/python3.11/site-packages (from ipython-sql) (0.2.0)\n",
      "Requirement already satisfied: wcwidth in /Users/jestebanpelaez/anaconda3/lib/python3.11/site-packages (from prettytable) (0.2.5)\n",
      "Requirement already satisfied: typing-extensions>=4.6.0 in /Users/jestebanpelaez/anaconda3/lib/python3.11/site-packages (from sqlalchemy>=2.0->ipython-sql) (4.7.1)\n",
      "Requirement already satisfied: backcall in /Users/jestebanpelaez/anaconda3/lib/python3.11/site-packages (from ipython->ipython-sql) (0.2.0)\n",
      "Requirement already satisfied: decorator in /Users/jestebanpelaez/anaconda3/lib/python3.11/site-packages (from ipython->ipython-sql) (5.1.1)\n",
      "Requirement already satisfied: jedi>=0.16 in /Users/jestebanpelaez/anaconda3/lib/python3.11/site-packages (from ipython->ipython-sql) (0.18.1)\n",
      "Requirement already satisfied: matplotlib-inline in /Users/jestebanpelaez/anaconda3/lib/python3.11/site-packages (from ipython->ipython-sql) (0.1.6)\n",
      "Requirement already satisfied: pickleshare in /Users/jestebanpelaez/anaconda3/lib/python3.11/site-packages (from ipython->ipython-sql) (0.7.5)\n",
      "Requirement already satisfied: prompt-toolkit!=3.0.37,<3.1.0,>=3.0.30 in /Users/jestebanpelaez/anaconda3/lib/python3.11/site-packages (from ipython->ipython-sql) (3.0.36)\n",
      "Requirement already satisfied: pygments>=2.4.0 in /Users/jestebanpelaez/anaconda3/lib/python3.11/site-packages (from ipython->ipython-sql) (2.15.1)\n",
      "Requirement already satisfied: stack-data in /Users/jestebanpelaez/anaconda3/lib/python3.11/site-packages (from ipython->ipython-sql) (0.2.0)\n",
      "Requirement already satisfied: traitlets>=5 in /Users/jestebanpelaez/anaconda3/lib/python3.11/site-packages (from ipython->ipython-sql) (5.7.1)\n",
      "Requirement already satisfied: pexpect>4.3 in /Users/jestebanpelaez/anaconda3/lib/python3.11/site-packages (from ipython->ipython-sql) (4.8.0)\n",
      "Requirement already satisfied: appnope in /Users/jestebanpelaez/anaconda3/lib/python3.11/site-packages (from ipython->ipython-sql) (0.1.2)\n",
      "Requirement already satisfied: parso<0.9.0,>=0.8.0 in /Users/jestebanpelaez/anaconda3/lib/python3.11/site-packages (from jedi>=0.16->ipython->ipython-sql) (0.8.3)\n",
      "Requirement already satisfied: ptyprocess>=0.5 in /Users/jestebanpelaez/anaconda3/lib/python3.11/site-packages (from pexpect>4.3->ipython->ipython-sql) (0.7.0)\n",
      "Requirement already satisfied: executing in /Users/jestebanpelaez/anaconda3/lib/python3.11/site-packages (from stack-data->ipython->ipython-sql) (0.8.3)\n",
      "Requirement already satisfied: asttokens in /Users/jestebanpelaez/anaconda3/lib/python3.11/site-packages (from stack-data->ipython->ipython-sql) (2.0.5)\n",
      "Requirement already satisfied: pure-eval in /Users/jestebanpelaez/anaconda3/lib/python3.11/site-packages (from stack-data->ipython->ipython-sql) (0.2.2)\n",
      "Note: you may need to restart the kernel to use updated packages.\n"
     ]
    }
   ],
   "source": [
    "%pip install ipython-sql prettytable"
   ]
  },
  {
   "attachments": {},
   "cell_type": "markdown",
   "metadata": {},
   "source": [
    "## Imported Libraries"
   ]
  },
  {
   "cell_type": "code",
   "execution_count": 8,
   "metadata": {},
   "outputs": [],
   "source": [
    "import pandas as pd\n",
    "import numpy as np\n",
    "from datetime import datetime\n",
    "import requests\n",
    "import prettytable\n",
    "import sqlite3"
   ]
  },
  {
   "attachments": {},
   "cell_type": "markdown",
   "metadata": {},
   "source": [
    "## Log Progress Fuction"
   ]
  },
  {
   "cell_type": "code",
   "execution_count": 9,
   "metadata": {},
   "outputs": [],
   "source": [
    "def log_progress(message):\n",
    "    ''' This function logs the mentioned message of a given stage of the\n",
    "    code execution to a log file. Function returns nothing'''\n",
    "    timestamp_format='%Y-%h-%d-%H:%M:%S'\n",
    "    now = datetime.now()\n",
    "    timestamp = now.strftime(timestamp_format)\n",
    "    with open(\"./log_progress\",\"a\") as f:\n",
    "        f.write(f\"{timestamp}:{message}\" + '\\n')"
   ]
  },
  {
   "attachments": {},
   "cell_type": "markdown",
   "metadata": {},
   "source": [
    "## Extract Fuction"
   ]
  },
  {
   "attachments": {},
   "cell_type": "markdown",
   "metadata": {},
   "source": [
    "This function retrieves cryptocurrency data from the CoinGecko API and saves it to a pandas DataFrame. The returned DataFrame is formatted for further analysis or processing.\n",
    "\n",
    "Specifically, the function extracts information about the top 100 cryptocurrencies, including their ID, name, current price in USD, and market capitalization in USD."
   ]
  },
  {
   "cell_type": "code",
   "execution_count": 10,
   "metadata": {},
   "outputs": [],
   "source": [
    "def extract(url):    # sourcery skip: raise-specific-error\n",
    "    ''' This function aims to extract the required\n",
    "    information from the CoinGecko and save it to a data frame. The\n",
    "    function returns the data frame for further processing. '''\n",
    "    params = {  \n",
    "               'vs_currency': 'USD'\n",
    "    }\n",
    "    response = requests.get(url, params=params)\n",
    "    if response.status_code != 200:\n",
    "        raise Exception(f\"Failed to fetch data from API. Status code: {response.status_code}\")\n",
    "    data = response.json()\n",
    "    df = pd.DataFrame(data)\n",
    "    columns = ['id', 'name', 'current_price', 'market_cap']\n",
    "    return df[columns]"
   ]
  },
  {
   "attachments": {},
   "cell_type": "markdown",
   "metadata": {},
   "source": [
    "## Transform the current price and market cap to EUR and GBP"
   ]
  },
  {
   "attachments": {},
   "cell_type": "markdown",
   "metadata": {},
   "source": [
    "This function accesses a CSV file containing exchange rate information and adds three new columns to the DataFrame. These columns represent the transformed values of the 'Market Cap' and 'Current Price' columns into their respective currencies.\n",
    "\n",
    "The function utilizes the `exchange_rate.csv` file to obtain the current exchange rates for USD to EUR and USD to GBP\n"
   ]
  },
  {
   "cell_type": "code",
   "execution_count": 11,
   "metadata": {},
   "outputs": [],
   "source": [
    "def transform(df, csv_path):\n",
    "    ''' This function accesses the CSV file for exchange rate\n",
    "    information, and adds three columns to the data frame, each\n",
    "    containing the transformed version of Market Cap column to\n",
    "    respective currencies'''\n",
    "\n",
    "    # Get the exchange rate from the csv file\n",
    "    exchangerate_df = pd.read_csv(csv_path)\n",
    "    # Transform the exchange rate in the data frame to a dictionary, in order manipulate it.\n",
    "    exchange_rate = exchangerate_df.set_index('Currency').to_dict()['Rate']\n",
    "\n",
    "    # Added new columns\n",
    "    df['current_price_GBP'] = [np.round(x*exchange_rate['GBP'],2) for x in df['current_price']]\n",
    "    df['current_price_EUR'] = [np.round(x*exchange_rate['EUR'],2) for x in df['current_price']]\n",
    "    df['market_cap_GBP'] = [np.round(x*exchange_rate['GBP'],2) for x in df['market_cap']]\n",
    "    df['market_cap_EUR'] = [np.round(x*exchange_rate['EUR'],2) for x in df['market_cap']]\n",
    "    return df"
   ]
  },
  {
   "attachments": {},
   "cell_type": "markdown",
   "metadata": {},
   "source": [
    "## Load Fuctions"
   ]
  },
  {
   "attachments": {},
   "cell_type": "markdown",
   "metadata": {},
   "source": [
    "The firta function saves the final data frame as a CSV file in\n",
    "the provided path. Function returns nothing.\n",
    "\n",
    "The second fuction save saves the final data frame to a database\n",
    "table with the provided name. Function returns nothing."
   ]
  },
  {
   "attachments": {},
   "cell_type": "markdown",
   "metadata": {},
   "source": [
    "Additionally, we include the function `connection_to_database`, which establishes the connection to the database"
   ]
  },
  {
   "cell_type": "code",
   "execution_count": 12,
   "metadata": {},
   "outputs": [],
   "source": [
    "def load_to_csv(df,new_path):\n",
    "    df.to_csv(new_path)\n",
    "\n",
    "def conection_to_database(database_name):\n",
    "    try:\n",
    "        db_connection = sqlite3.connect(database_name)\n",
    "    except sqlite3.OperationalError as e:\n",
    "        raise e\n",
    "    else:\n",
    "        print(\"connected\")\n",
    "    return db_connection\n",
    "\n",
    "def load_to_db(df,sql_connection,table_name):\n",
    "        df.to_sql(table_name,sql_connection, if_exists='replace', index=False)\n"
   ]
  },
  {
   "attachments": {},
   "cell_type": "markdown",
   "metadata": {},
   "source": [
    "## ETL Procces"
   ]
  },
  {
   "attachments": {},
   "cell_type": "markdown",
   "metadata": {},
   "source": [
    "Now that we have all the required functions for this process, we can create a DataFrame based on the data extracted from the CoinGecko API, save it to a CSV file, and load it into a database for subsequent analysis."
   ]
  },
  {
   "attachments": {},
   "cell_type": "markdown",
   "metadata": {},
   "source": [
    "### Required variables"
   ]
  },
  {
   "cell_type": "code",
   "execution_count": 13,
   "metadata": {},
   "outputs": [],
   "source": [
    "api_url = \"https://api.coingecko.com/api/v3/coins/markets?x_cg_demo_api_key=CG-MbEY8jPE4gh6VQGrJrCCF5st\"\n",
    "exchange_rate_csv = './exchange_rate.csv'\n",
    "data_csv_path='./Crypto_Data.csv'\n",
    "db_name='CryptoData.db'\n",
    "table_name='Crypto_Data'\n",
    "log_progress(\"Variables are define. Intiating ETL process\")"
   ]
  },
  {
   "attachments": {},
   "cell_type": "markdown",
   "metadata": {},
   "source": [
    "Extract data from the api"
   ]
  },
  {
   "cell_type": "code",
   "execution_count": 14,
   "metadata": {},
   "outputs": [],
   "source": [
    "df = extract(api_url)\n",
    "df\n",
    "log_progress(\"Extracted crypto data from CoinGecko API\")"
   ]
  },
  {
   "attachments": {},
   "cell_type": "markdown",
   "metadata": {},
   "source": [
    "Transforming Data as required. In this case we are going to transform the market cap and current price, which is in USD to EUR and GBP"
   ]
  },
  {
   "cell_type": "code",
   "execution_count": 15,
   "metadata": {},
   "outputs": [
    {
     "data": {
      "text/html": [
       "<div>\n",
       "<style scoped>\n",
       "    .dataframe tbody tr th:only-of-type {\n",
       "        vertical-align: middle;\n",
       "    }\n",
       "\n",
       "    .dataframe tbody tr th {\n",
       "        vertical-align: top;\n",
       "    }\n",
       "\n",
       "    .dataframe thead th {\n",
       "        text-align: right;\n",
       "    }\n",
       "</style>\n",
       "<table border=\"1\" class=\"dataframe\">\n",
       "  <thead>\n",
       "    <tr style=\"text-align: right;\">\n",
       "      <th></th>\n",
       "      <th>id</th>\n",
       "      <th>name</th>\n",
       "      <th>current_price</th>\n",
       "      <th>market_cap</th>\n",
       "      <th>current_price_GBP</th>\n",
       "      <th>current_price_EUR</th>\n",
       "      <th>market_cap_GBP</th>\n",
       "      <th>market_cap_EUR</th>\n",
       "    </tr>\n",
       "  </thead>\n",
       "  <tbody>\n",
       "    <tr>\n",
       "      <th>0</th>\n",
       "      <td>bitcoin</td>\n",
       "      <td>Bitcoin</td>\n",
       "      <td>102487.000000</td>\n",
       "      <td>2028043916372</td>\n",
       "      <td>81989.60</td>\n",
       "      <td>97362.65</td>\n",
       "      <td>1.622435e+12</td>\n",
       "      <td>1.926642e+12</td>\n",
       "    </tr>\n",
       "    <tr>\n",
       "      <th>1</th>\n",
       "      <td>ethereum</td>\n",
       "      <td>Ethereum</td>\n",
       "      <td>3125.310000</td>\n",
       "      <td>376454750206</td>\n",
       "      <td>2500.25</td>\n",
       "      <td>2969.04</td>\n",
       "      <td>3.011638e+11</td>\n",
       "      <td>3.576320e+11</td>\n",
       "    </tr>\n",
       "    <tr>\n",
       "      <th>2</th>\n",
       "      <td>ripple</td>\n",
       "      <td>XRP</td>\n",
       "      <td>3.080000</td>\n",
       "      <td>177459935026</td>\n",
       "      <td>2.46</td>\n",
       "      <td>2.93</td>\n",
       "      <td>1.419679e+11</td>\n",
       "      <td>1.685869e+11</td>\n",
       "    </tr>\n",
       "    <tr>\n",
       "      <th>3</th>\n",
       "      <td>tether</td>\n",
       "      <td>Tether</td>\n",
       "      <td>0.999547</td>\n",
       "      <td>139404668728</td>\n",
       "      <td>0.80</td>\n",
       "      <td>0.95</td>\n",
       "      <td>1.115237e+11</td>\n",
       "      <td>1.324344e+11</td>\n",
       "    </tr>\n",
       "    <tr>\n",
       "      <th>4</th>\n",
       "      <td>solana</td>\n",
       "      <td>Solana</td>\n",
       "      <td>230.460000</td>\n",
       "      <td>112115003667</td>\n",
       "      <td>184.37</td>\n",
       "      <td>218.94</td>\n",
       "      <td>8.969200e+10</td>\n",
       "      <td>1.065093e+11</td>\n",
       "    </tr>\n",
       "    <tr>\n",
       "      <th>...</th>\n",
       "      <td>...</td>\n",
       "      <td>...</td>\n",
       "      <td>...</td>\n",
       "      <td>...</td>\n",
       "      <td>...</td>\n",
       "      <td>...</td>\n",
       "      <td>...</td>\n",
       "      <td>...</td>\n",
       "    </tr>\n",
       "    <tr>\n",
       "      <th>95</th>\n",
       "      <td>usual-usd</td>\n",
       "      <td>Usual USD</td>\n",
       "      <td>0.997792</td>\n",
       "      <td>1204780556</td>\n",
       "      <td>0.80</td>\n",
       "      <td>0.95</td>\n",
       "      <td>9.638244e+08</td>\n",
       "      <td>1.144542e+09</td>\n",
       "    </tr>\n",
       "    <tr>\n",
       "      <th>96</th>\n",
       "      <td>floki</td>\n",
       "      <td>FLOKI</td>\n",
       "      <td>0.000122</td>\n",
       "      <td>1183897310</td>\n",
       "      <td>0.00</td>\n",
       "      <td>0.00</td>\n",
       "      <td>9.471178e+08</td>\n",
       "      <td>1.124702e+09</td>\n",
       "    </tr>\n",
       "    <tr>\n",
       "      <th>97</th>\n",
       "      <td>jasmycoin</td>\n",
       "      <td>JasmyCoin</td>\n",
       "      <td>0.024331</td>\n",
       "      <td>1177639659</td>\n",
       "      <td>0.02</td>\n",
       "      <td>0.02</td>\n",
       "      <td>9.421117e+08</td>\n",
       "      <td>1.118758e+09</td>\n",
       "    </tr>\n",
       "    <tr>\n",
       "      <th>98</th>\n",
       "      <td>eos</td>\n",
       "      <td>EOS</td>\n",
       "      <td>0.736423</td>\n",
       "      <td>1116828098</td>\n",
       "      <td>0.59</td>\n",
       "      <td>0.70</td>\n",
       "      <td>8.934625e+08</td>\n",
       "      <td>1.060987e+09</td>\n",
       "    </tr>\n",
       "    <tr>\n",
       "      <th>99</th>\n",
       "      <td>tezos</td>\n",
       "      <td>Tezos</td>\n",
       "      <td>1.074000</td>\n",
       "      <td>1103124561</td>\n",
       "      <td>0.86</td>\n",
       "      <td>1.02</td>\n",
       "      <td>8.824996e+08</td>\n",
       "      <td>1.047968e+09</td>\n",
       "    </tr>\n",
       "  </tbody>\n",
       "</table>\n",
       "<p>100 rows × 8 columns</p>\n",
       "</div>"
      ],
      "text/plain": [
       "           id       name  current_price     market_cap  current_price_GBP  \\\n",
       "0     bitcoin    Bitcoin  102487.000000  2028043916372           81989.60   \n",
       "1    ethereum   Ethereum    3125.310000   376454750206            2500.25   \n",
       "2      ripple        XRP       3.080000   177459935026               2.46   \n",
       "3      tether     Tether       0.999547   139404668728               0.80   \n",
       "4      solana     Solana     230.460000   112115003667             184.37   \n",
       "..        ...        ...            ...            ...                ...   \n",
       "95  usual-usd  Usual USD       0.997792     1204780556               0.80   \n",
       "96      floki      FLOKI       0.000122     1183897310               0.00   \n",
       "97  jasmycoin  JasmyCoin       0.024331     1177639659               0.02   \n",
       "98        eos        EOS       0.736423     1116828098               0.59   \n",
       "99      tezos      Tezos       1.074000     1103124561               0.86   \n",
       "\n",
       "    current_price_EUR  market_cap_GBP  market_cap_EUR  \n",
       "0            97362.65    1.622435e+12    1.926642e+12  \n",
       "1             2969.04    3.011638e+11    3.576320e+11  \n",
       "2                2.93    1.419679e+11    1.685869e+11  \n",
       "3                0.95    1.115237e+11    1.324344e+11  \n",
       "4              218.94    8.969200e+10    1.065093e+11  \n",
       "..                ...             ...             ...  \n",
       "95               0.95    9.638244e+08    1.144542e+09  \n",
       "96               0.00    9.471178e+08    1.124702e+09  \n",
       "97               0.02    9.421117e+08    1.118758e+09  \n",
       "98               0.70    8.934625e+08    1.060987e+09  \n",
       "99               1.02    8.824996e+08    1.047968e+09  \n",
       "\n",
       "[100 rows x 8 columns]"
      ]
     },
     "execution_count": 15,
     "metadata": {},
     "output_type": "execute_result"
    }
   ],
   "source": [
    "df = transform(df, exchange_rate_csv)\n",
    "df"
   ]
  },
  {
   "attachments": {},
   "cell_type": "markdown",
   "metadata": {},
   "source": [
    "## Loading data"
   ]
  },
  {
   "attachments": {},
   "cell_type": "markdown",
   "metadata": {},
   "source": [
    "Now we are saving the data to a new CSV file and loading it into the database."
   ]
  },
  {
   "cell_type": "code",
   "execution_count": 16,
   "metadata": {},
   "outputs": [],
   "source": [
    "load_to_csv(df,data_csv_path)"
   ]
  },
  {
   "attachments": {},
   "cell_type": "markdown",
   "metadata": {},
   "source": [
    "This generates a new CSV file in the current working directory containing cryptocurrency data extracted from the CoinGecko API. Next step is going to be load the data in to a Database."
   ]
  },
  {
   "cell_type": "code",
   "execution_count": 17,
   "metadata": {},
   "outputs": [
    {
     "name": "stdout",
     "output_type": "stream",
     "text": [
      "connected\n"
     ]
    }
   ],
   "source": [
    "conn = conection_to_database(db_name)\n",
    "# In order to execute SQL statements and fetch results from SQL queries, we will need to use a database cursor.\n",
    "curs = conn.cursor()\n",
    "load_to_db(df,conn,table_name)"
   ]
  },
  {
   "cell_type": "code",
   "execution_count": null,
   "metadata": {},
   "outputs": [],
   "source": []
  }
 ],
 "metadata": {
  "kernelspec": {
   "display_name": "base",
   "language": "python",
   "name": "python3"
  },
  "language_info": {
   "codemirror_mode": {
    "name": "ipython",
    "version": 3
   },
   "file_extension": ".py",
   "mimetype": "text/x-python",
   "name": "python",
   "nbconvert_exporter": "python",
   "pygments_lexer": "ipython3",
   "version": "3.11.5"
  },
  "orig_nbformat": 4,
  "vscode": {
   "interpreter": {
    "hash": "b0faa2996cdc2ec397ec18f3fcb31310a866f07fb5fcfee33b54fc5dcb8ef537"
   }
  }
 },
 "nbformat": 4,
 "nbformat_minor": 2
}
