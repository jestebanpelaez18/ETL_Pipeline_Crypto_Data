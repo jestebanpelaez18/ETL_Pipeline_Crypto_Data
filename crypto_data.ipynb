{
 "cells": [
  {
   "attachments": {},
   "cell_type": "markdown",
   "metadata": {},
   "source": [
    "# Crypto Currency Data From CoinGecko API"
   ]
  },
  {
   "attachments": {},
   "cell_type": "markdown",
   "metadata": {},
   "source": [
    "## Imported Libraries"
   ]
  },
  {
   "cell_type": "code",
   "execution_count": 1,
   "metadata": {},
   "outputs": [],
   "source": [
    "import pandas as pd\n",
    "import numpy as np\n",
    "from datetime import datetime\n",
    "import requests\n",
    "from bs4 import BeautifulSoup"
   ]
  },
  {
   "attachments": {},
   "cell_type": "markdown",
   "metadata": {},
   "source": [
    "## Log Progress Fuction"
   ]
  },
  {
   "cell_type": "code",
   "execution_count": null,
   "metadata": {},
   "outputs": [],
   "source": [
    "def log_progress(message):\n",
    "    ''' This function logs the mentioned message of a given stage of the\n",
    "    code execution to a log file. Function returns nothing'''\n",
    "    timestamp_format='%Y-%h-%d-%H:%M:%S'\n",
    "    now = datetime.now()\n",
    "    timestamp = now.strftime(timestamp_format)\n",
    "    with open(\"./log_progress\",\"a\") as f:\n",
    "        f.write(f\"{timestamp}:{message}\" + '\\n')"
   ]
  },
  {
   "attachments": {},
   "cell_type": "markdown",
   "metadata": {},
   "source": [
    "## Extract Fuction"
   ]
  },
  {
   "attachments": {},
   "cell_type": "markdown",
   "metadata": {},
   "source": [
    "This function aims to extract the required\n",
    "information from the CoinGecko and save it to a data frame. The\n",
    "function returns the data frame for further processing.\n",
    "\n",
    "For this case we chose the top 100 coins in Coing Gecko. The final DataFrame it is going to include the id, name, current price in USD and market cap in USD for every coin."
   ]
  },
  {
   "cell_type": "code",
   "execution_count": 16,
   "metadata": {},
   "outputs": [
    {
     "data": {
      "text/html": [
       "<div>\n",
       "<style scoped>\n",
       "    .dataframe tbody tr th:only-of-type {\n",
       "        vertical-align: middle;\n",
       "    }\n",
       "\n",
       "    .dataframe tbody tr th {\n",
       "        vertical-align: top;\n",
       "    }\n",
       "\n",
       "    .dataframe thead th {\n",
       "        text-align: right;\n",
       "    }\n",
       "</style>\n",
       "<table border=\"1\" class=\"dataframe\">\n",
       "  <thead>\n",
       "    <tr style=\"text-align: right;\">\n",
       "      <th></th>\n",
       "      <th>id</th>\n",
       "      <th>name</th>\n",
       "      <th>current_price</th>\n",
       "      <th>market_cap</th>\n",
       "    </tr>\n",
       "  </thead>\n",
       "  <tbody>\n",
       "    <tr>\n",
       "      <th>0</th>\n",
       "      <td>bitcoin</td>\n",
       "      <td>Bitcoin</td>\n",
       "      <td>99366.000000</td>\n",
       "      <td>1965862285317</td>\n",
       "    </tr>\n",
       "    <tr>\n",
       "      <th>1</th>\n",
       "      <td>ethereum</td>\n",
       "      <td>Ethereum</td>\n",
       "      <td>3079.410000</td>\n",
       "      <td>370167865786</td>\n",
       "    </tr>\n",
       "    <tr>\n",
       "      <th>2</th>\n",
       "      <td>ripple</td>\n",
       "      <td>XRP</td>\n",
       "      <td>2.920000</td>\n",
       "      <td>168125945799</td>\n",
       "    </tr>\n",
       "    <tr>\n",
       "      <th>3</th>\n",
       "      <td>tether</td>\n",
       "      <td>Tether</td>\n",
       "      <td>0.999567</td>\n",
       "      <td>139279136076</td>\n",
       "    </tr>\n",
       "    <tr>\n",
       "      <th>4</th>\n",
       "      <td>solana</td>\n",
       "      <td>Solana</td>\n",
       "      <td>227.610000</td>\n",
       "      <td>110441338396</td>\n",
       "    </tr>\n",
       "    <tr>\n",
       "      <th>...</th>\n",
       "      <td>...</td>\n",
       "      <td>...</td>\n",
       "      <td>...</td>\n",
       "      <td>...</td>\n",
       "    </tr>\n",
       "    <tr>\n",
       "      <th>95</th>\n",
       "      <td>jasmycoin</td>\n",
       "      <td>JasmyCoin</td>\n",
       "      <td>0.025009</td>\n",
       "      <td>1207888327</td>\n",
       "    </tr>\n",
       "    <tr>\n",
       "      <th>96</th>\n",
       "      <td>msol</td>\n",
       "      <td>Marinade Staked SOL</td>\n",
       "      <td>287.510000</td>\n",
       "      <td>1205086496</td>\n",
       "    </tr>\n",
       "    <tr>\n",
       "      <th>97</th>\n",
       "      <td>solana-swap</td>\n",
       "      <td>Solana Swap</td>\n",
       "      <td>1.210000</td>\n",
       "      <td>1204470317</td>\n",
       "    </tr>\n",
       "    <tr>\n",
       "      <th>98</th>\n",
       "      <td>dexe</td>\n",
       "      <td>DeXe</td>\n",
       "      <td>20.850000</td>\n",
       "      <td>1189192010</td>\n",
       "    </tr>\n",
       "    <tr>\n",
       "      <th>99</th>\n",
       "      <td>floki</td>\n",
       "      <td>FLOKI</td>\n",
       "      <td>0.000122</td>\n",
       "      <td>1171490818</td>\n",
       "    </tr>\n",
       "  </tbody>\n",
       "</table>\n",
       "<p>100 rows × 4 columns</p>\n",
       "</div>"
      ],
      "text/plain": [
       "             id                 name  current_price     market_cap\n",
       "0       bitcoin              Bitcoin   99366.000000  1965862285317\n",
       "1      ethereum             Ethereum    3079.410000   370167865786\n",
       "2        ripple                  XRP       2.920000   168125945799\n",
       "3        tether               Tether       0.999567   139279136076\n",
       "4        solana               Solana     227.610000   110441338396\n",
       "..          ...                  ...            ...            ...\n",
       "95    jasmycoin            JasmyCoin       0.025009     1207888327\n",
       "96         msol  Marinade Staked SOL     287.510000     1205086496\n",
       "97  solana-swap          Solana Swap       1.210000     1204470317\n",
       "98         dexe                 DeXe      20.850000     1189192010\n",
       "99        floki                FLOKI       0.000122     1171490818\n",
       "\n",
       "[100 rows x 4 columns]"
      ]
     },
     "execution_count": 16,
     "metadata": {},
     "output_type": "execute_result"
    }
   ],
   "source": [
    "def extract(url):    # sourcery skip: raise-specific-error\n",
    "    ''' This function aims to extract the required\n",
    "    information from the CoinGecko and save it to a data frame. The\n",
    "    function returns the data frame for further processing. '''\n",
    "    params = {  \n",
    "               'vs_currency': 'USD'\n",
    "    }\n",
    "    response = requests.get(url, params=params)\n",
    "    if response.status_code != 200:\n",
    "        raise Exception(f\"Failed to fetch data from API. Status code: {response.status_code}\")\n",
    "    data = response.json()\n",
    "    df = pd.DataFrame(data)\n",
    "    columns = ['id', 'name', 'current_price', 'market_cap']\n",
    "    return df[columns]\n",
    "\n",
    "extract(\"https://api.coingecko.com/api/v3/coins/markets?x_cg_demo_api_key=CG-MbEY8jPE4gh6VQGrJrCCF5st\")"
   ]
  },
  {
   "attachments": {},
   "cell_type": "markdown",
   "metadata": {},
   "source": [
    "## Transform the current price and market cap to EUR and GBP"
   ]
  },
  {
   "attachments": {},
   "cell_type": "markdown",
   "metadata": {},
   "source": [
    "This function accesses the CSV file for exchange rate\n",
    "information, and adds three columns to the data frame, each\n",
    "containing the transformed version of Market Cap column to\n",
    "respective currencies\n"
   ]
  },
  {
   "cell_type": "markdown",
   "metadata": {},
   "source": []
  }
 ],
 "metadata": {
  "kernelspec": {
   "display_name": "base",
   "language": "python",
   "name": "python3"
  },
  "language_info": {
   "codemirror_mode": {
    "name": "ipython",
    "version": 3
   },
   "file_extension": ".py",
   "mimetype": "text/x-python",
   "name": "python",
   "nbconvert_exporter": "python",
   "pygments_lexer": "ipython3",
   "version": "3.11.5"
  },
  "orig_nbformat": 4,
  "vscode": {
   "interpreter": {
    "hash": "b0faa2996cdc2ec397ec18f3fcb31310a866f07fb5fcfee33b54fc5dcb8ef537"
   }
  }
 },
 "nbformat": 4,
 "nbformat_minor": 2
}
