{
 "cells": [
  {
   "attachments": {},
   "cell_type": "markdown",
   "metadata": {},
   "source": [
    "# Cryptocurrency Market Data Analysis with CoinGecko API \n",
    "\n",
    "![CoinGecko API](https://img.shields.io/badge/DataSource-CoinGecko_API-blue)\n",
    "![Python](https://img.shields.io/badge/Language-Python-green)\n",
    "![ETL](https://img.shields.io/badge/Workflow-ETL-orange)\n",
    "\n",
    "A project to extract, transform, and analyze top 100 cryptocurrency data from CoinGecko API. Includes database integration and SQL queries for insights.\n",
    "\n",
    "**Key Features**:\n",
    "- Real-time data extraction from CoinGecko API\n",
    "- Currency conversion to EUR/GBP\n",
    "- Automated logging system\n",
    "- SQL database integration\n",
    "- Example analytical queries\n",
    "\n",
    "---\n",
    "\n",
    "## Packages & Libraries\n",
    "\n",
    "### Install Required Packages\n",
    "```python\n",
    "%pip install ipython-sql prettytable\n",
    "%pip install seaborn "
   ]
  },
  {
   "attachments": {},
   "cell_type": "markdown",
   "metadata": {},
   "source": [
    "### Imported Libraries"
   ]
  },
  {
   "cell_type": "code",
   "execution_count": null,
   "metadata": {},
   "outputs": [],
   "source": [
    "import pandas as pd\n",
    "import numpy as np\n",
    "from datetime import datetime\n",
    "import requests\n",
    "import prettytable\n",
    "prettytable.DEFAULT = 'DEFAULT'\n",
    "import sqlite3\n",
    "import matplotlib as mpl\n",
    "import matplotlib.pyplot as plt\n",
    "import seaborn as sns"
   ]
  },
  {
   "attachments": {},
   "cell_type": "markdown",
   "metadata": {},
   "source": [
    "# Project Workflow"
   ]
  },
  {
   "attachments": {},
   "cell_type": "markdown",
   "metadata": {},
   "source": [
    "### 1. Logging Progres"
   ]
  },
  {
   "attachments": {},
   "cell_type": "markdown",
   "metadata": {},
   "source": [
    "Logs execution stages to `log_progress` for debugging and tracking."
   ]
  },
  {
   "cell_type": "code",
   "execution_count": null,
   "metadata": {},
   "outputs": [],
   "source": [
    "def log_progress(message):\n",
    "    ''' This function logs the mentioned message of a given stage of the\n",
    "    code execution to a log file. Function returns nothing'''\n",
    "    timestamp_format='%Y-%h-%d-%H:%M:%S'\n",
    "    now = datetime.now()\n",
    "    timestamp = now.strftime(timestamp_format)\n",
    "    with open(\"./log_progress\",\"a\") as f:\n",
    "        f.write(f\"{timestamp}:{message}\" + '\\n')"
   ]
  },
  {
   "attachments": {},
   "cell_type": "markdown",
   "metadata": {},
   "source": [
    "### 2. Data Extraction"
   ]
  },
  {
   "attachments": {},
   "cell_type": "markdown",
   "metadata": {},
   "source": [
    "This function retrieves cryptocurrency data from the CoinGecko API and saves it to a pandas DataFrame. The returned DataFrame is formatted for further analysis or processing.\n",
    "\n",
    "Fetches top 100 cryptocurrencies' data from CoinGecko API.\n",
    "\n",
    "**Parameters:**\n",
    "\n",
    "- `url`: CoinGecko API endpoint (e.g., coins/markets).\n",
    "\n",
    "**Returns:**\n",
    "\n",
    "- DataFrame with columns: id, name, current_price, market_cap."
   ]
  },
  {
   "cell_type": "code",
   "execution_count": null,
   "metadata": {},
   "outputs": [],
   "source": [
    "def extract(url):    # sourcery skip: raise-specific-error\n",
    "    ''' This function aims to extract the required\n",
    "    information from the CoinGecko and save it to a data frame. The\n",
    "    function returns the data frame for further processing. '''\n",
    "    params = {  \n",
    "               'vs_currency': 'USD'\n",
    "    }\n",
    "    response = requests.get(url, params=params)\n",
    "    if response.status_code != 200:\n",
    "        raise Exception(f\"Failed to fetch data from API. Status code: {response.status_code}\")\n",
    "    data = response.json()\n",
    "    df = pd.DataFrame(data)\n",
    "    columns = ['id', 'name', 'current_price', 'market_cap']\n",
    "    return df[columns]"
   ]
  },
  {
   "attachments": {},
   "cell_type": "markdown",
   "metadata": {},
   "source": [
    "## 3. Data Transformation"
   ]
  },
  {
   "attachments": {},
   "cell_type": "markdown",
   "metadata": {},
   "source": [
    "This function accesses a CSV file containing exchange rate information and adds three new columns to the DataFrame. These columns represent the transformed values of the 'Market Cap' and 'Current Price' columns into their respective currencies.\n",
    "\n",
    "Converts USD values to EUR/GBP using exchange rates from `exchange_rate.csv.`\n",
    "\n",
    "**Key Steps:**\n",
    "\n",
    "- Load exchange rates from CSV.\n",
    "\n",
    "- Calculate new columns: current_price_GBP, current_price_EUR, market_cap_GBP, market_cap_EUR.\n"
   ]
  },
  {
   "cell_type": "code",
   "execution_count": null,
   "metadata": {},
   "outputs": [],
   "source": [
    "def transform(df, csv_path):\n",
    "    ''' This function accesses the CSV file for exchange rate\n",
    "    information, and adds three columns to the data frame, each\n",
    "    containing the transformed version of Market Cap column to\n",
    "    respective currencies'''\n",
    "\n",
    "    # Get the exchange rate from the csv file\n",
    "    exchangerate_df = pd.read_csv(csv_path)\n",
    "    # Transform the exchange rate in the data frame to a dictionary, in order manipulate it.\n",
    "    exchange_rate = exchangerate_df.set_index('Currency').to_dict()['Rate']\n",
    "\n",
    "    # Added new columns\n",
    "    df['current_price_GBP'] = [np.round(x*exchange_rate['GBP'],2) for x in df['current_price']]\n",
    "    df['current_price_EUR'] = [np.round(x*exchange_rate['EUR'],2) for x in df['current_price']]\n",
    "    df['market_cap_GBP'] = [np.round(x*exchange_rate['GBP'],2) for x in df['market_cap']]\n",
    "    df['market_cap_EUR'] = [np.round(x*exchange_rate['EUR'],2) for x in df['market_cap']]\n",
    "    return df"
   ]
  },
  {
   "attachments": {},
   "cell_type": "markdown",
   "metadata": {},
   "source": [
    "## 4. Data Loading"
   ]
  },
  {
   "attachments": {},
   "cell_type": "markdown",
   "metadata": {},
   "source": [
    "The firts function saves the final data frame as a CSV file in\n",
    "the provided path. Function returns nothing."
   ]
  },
  {
   "cell_type": "code",
   "execution_count": null,
   "metadata": {},
   "outputs": [],
   "source": [
    "def load_to_csv(df,new_path):\n",
    "    df.to_csv(new_path)"
   ]
  },
  {
   "attachments": {},
   "cell_type": "markdown",
   "metadata": {},
   "source": [
    "The second fuction save saves the final data frame to a database\n",
    "table with the provided name. Function returns nothing.\n",
    "\n",
    "Additionally, we include the function `connection_to_database`, which establishes the connection to the database."
   ]
  },
  {
   "cell_type": "code",
   "execution_count": null,
   "metadata": {},
   "outputs": [],
   "source": [
    "def conection_to_database(database_name):\n",
    "    try:\n",
    "        db_connection = sqlite3.connect(database_name)\n",
    "    except sqlite3.OperationalError as e:\n",
    "        raise e\n",
    "    else:\n",
    "        print(\"connected\")\n",
    "    return db_connection\n",
    "\n",
    "def load_to_db(df,sql_connection,table_name):\n",
    "        df.to_sql(table_name,sql_connection, if_exists='replace', index=False)"
   ]
  },
  {
   "attachments": {},
   "cell_type": "markdown",
   "metadata": {},
   "source": [
    "## 5. ETL Execution"
   ]
  },
  {
   "attachments": {},
   "cell_type": "markdown",
   "metadata": {},
   "source": [
    "Now that we have all the required functions for this process, we can create a DataFrame based on the data extracted from the CoinGecko API, save it to a CSV file, and load it into a database for subsequent analysis."
   ]
  },
  {
   "attachments": {},
   "cell_type": "markdown",
   "metadata": {},
   "source": [
    "### Configuration"
   ]
  },
  {
   "cell_type": "code",
   "execution_count": null,
   "metadata": {},
   "outputs": [],
   "source": [
    "api_url = \"https://api.coingecko.com/api/v3/coins/markets?x_cg_demo_api_key=CG-MbEY8jPE4gh6VQGrJrCCF5st\"\n",
    "exchange_rate_csv = './exchange_rate.csv'\n",
    "data_csv_path='./Crypto_Data.csv'\n",
    "db_name='CryptoData.db'\n",
    "table_name='Crypto_Data'\n",
    "log_progress(\"Variables are define. Intiating ETL process\")"
   ]
  },
  {
   "attachments": {},
   "cell_type": "markdown",
   "metadata": {},
   "source": [
    "**Steps**\n",
    "1. Extract: Fetch data from API.\n",
    "2. Transform: Convert prices to EUR/GBP.\n",
    "3. Load: Save to CSV and SQLite DB."
   ]
  },
  {
   "cell_type": "code",
   "execution_count": null,
   "metadata": {},
   "outputs": [],
   "source": [
    "df = extract(api_url)\n",
    "log_progress(\"Extracted crypto data from CoinGecko API\")\n",
    "df = transform(df, exchange_rate_csv)\n",
    "log_progress(\"Transformed data to EUR and GBP\")\n",
    "df"
   ]
  },
  {
   "attachments": {},
   "cell_type": "markdown",
   "metadata": {},
   "source": [
    "### Loading data"
   ]
  },
  {
   "attachments": {},
   "cell_type": "markdown",
   "metadata": {},
   "source": [
    "Now we are saving the data to a new CSV file and loading it into the database. This generates a new CSV file in the current working directory containing cryptocurrency data extracted from the CoinGecko API. Next step is going to be load the data in to a Database."
   ]
  },
  {
   "cell_type": "code",
   "execution_count": null,
   "metadata": {},
   "outputs": [],
   "source": [
    "load_to_csv(df,data_csv_path)\n",
    "log_progress(\"Loaded data to CSV\")\n",
    "conn = conection_to_database(db_name)\n",
    "# In order to execute SQL statements and fetch results from SQL queries, we will need to use a database cursor.\n",
    "curs = conn.cursor()\n",
    "load_to_db(df,conn,table_name)\n",
    "log_progress(\"Loaded data to SQLite Database\")"
   ]
  },
  {
   "attachments": {},
   "cell_type": "markdown",
   "metadata": {},
   "source": [
    "## 6. SQL Analysis"
   ]
  },
  {
   "attachments": {},
   "cell_type": "markdown",
   "metadata": {},
   "source": [
    "Now that we have establish the connection with the database, we stablish a connection between SQL magic module and the database CrytoData.db, in order to run queries in jupyter notebook"
   ]
  },
  {
   "cell_type": "code",
   "execution_count": null,
   "metadata": {},
   "outputs": [],
   "source": [
    "%load_ext sql\n",
    "%sql sqlite:///CryptoData.db"
   ]
  },
  {
   "attachments": {},
   "cell_type": "markdown",
   "metadata": {},
   "source": [
    "### Sample Queries"
   ]
  },
  {
   "attachments": {},
   "cell_type": "markdown",
   "metadata": {},
   "source": [
    "1. Check if the table exist"
   ]
  },
  {
   "cell_type": "code",
   "execution_count": null,
   "metadata": {},
   "outputs": [],
   "source": [
    "%sql SELECT name FROM sqlite_master WHERE type='table'"
   ]
  },
  {
   "attachments": {},
   "cell_type": "markdown",
   "metadata": {},
   "source": [
    "2. Check the number of rows"
   ]
  },
  {
   "cell_type": "code",
   "execution_count": null,
   "metadata": {},
   "outputs": [],
   "source": [
    "%sql SELECT count(name) FROM PRAGMA_TABLE_INFO('Crypto_Data')"
   ]
  },
  {
   "attachments": {},
   "cell_type": "markdown",
   "metadata": {},
   "source": [
    "3. Check name of the columns"
   ]
  },
  {
   "cell_type": "code",
   "execution_count": null,
   "metadata": {},
   "outputs": [],
   "source": [
    "%sql SELECT name,type from PRAGMA_TABLE_INFO('Crypto_Data')"
   ]
  },
  {
   "attachments": {},
   "cell_type": "markdown",
   "metadata": {},
   "source": [
    "4. List of the total coins"
   ]
  },
  {
   "cell_type": "code",
   "execution_count": null,
   "metadata": {},
   "outputs": [],
   "source": [
    "%sql SELECT count(*) FROM Crypto_Data"
   ]
  },
  {
   "attachments": {},
   "cell_type": "markdown",
   "metadata": {},
   "source": [
    "5. Top 10 Low-Price Coins <$1"
   ]
  },
  {
   "cell_type": "code",
   "execution_count": null,
   "metadata": {},
   "outputs": [],
   "source": [
    "%sql SELECT name, current_price FROM Crypto_Data WHERE current_price < 1 LIMIT 10 "
   ]
  },
  {
   "attachments": {},
   "cell_type": "markdown",
   "metadata": {},
   "source": [
    "6. Coins with \"Coin\" in Name"
   ]
  },
  {
   "cell_type": "code",
   "execution_count": null,
   "metadata": {},
   "outputs": [],
   "source": [
    "%sql SELECT name FROM Crypto_Data WHERE name LIKE '%coin%'"
   ]
  },
  {
   "attachments": {},
   "cell_type": "markdown",
   "metadata": {},
   "source": [
    "7. Top 10 lowest coins in market cap"
   ]
  },
  {
   "cell_type": "code",
   "execution_count": null,
   "metadata": {},
   "outputs": [],
   "source": [
    "%sql SELECT * FROM crypto_data ORDER BY market_cap LIMIT 10"
   ]
  },
  {
   "attachments": {},
   "cell_type": "markdown",
   "metadata": {},
   "source": [
    "8. Average Price of 10 Smallest Market Cap Coins"
   ]
  },
  {
   "cell_type": "code",
   "execution_count": null,
   "metadata": {},
   "outputs": [],
   "source": [
    "%sql SELECT AVG(current_price) as AVERAGE_PRICE_10 FROM( SELECT current_price FROM crypto_data ORDER BY market_cap LIMIT 10)"
   ]
  },
  {
   "attachments": {},
   "cell_type": "markdown",
   "metadata": {},
   "source": [
    "9. Coin with the minimum market cap"
   ]
  },
  {
   "cell_type": "code",
   "execution_count": null,
   "metadata": {},
   "outputs": [],
   "source": [
    "%sql SELECT name, market_cap FROM crypto_data WHERE market_cap = (SELECT MIN(market_cap) FROM crypto_data)"
   ]
  },
  {
   "attachments": {},
   "cell_type": "markdown",
   "metadata": {},
   "source": [
    "## 7. Graphical Analysis"
   ]
  },
  {
   "cell_type": "markdown",
   "metadata": {},
   "source": [
    "1. Top 10 Market Cap Coins"
   ]
  },
  {
   "cell_type": "code",
   "execution_count": null,
   "metadata": {},
   "outputs": [],
   "source": [
    "top_10 = df.sort_values('market_cap', ascending=False).head(10)\n",
    "ax = sns.barplot(\n",
    "    data=top_10,\n",
    "    x='market_cap',\n",
    "    y='name',\n",
    "    palette='viridis',  \n",
    "    edgecolor='black' \n",
    ")\n",
    "\n",
    "plt.xlabel('Market Capitalization (Millons USD)', fontsize=12, weight='bold')\n",
    "plt.ylabel('') \n",
    "plt.title('Top 10 Cryptos by Market Cap', fontsize=16, pad=20, weight='bold')"
   ]
  },
  {
   "attachments": {},
   "cell_type": "markdown",
   "metadata": {},
   "source": [
    "2. Last 10 Coins by Market Cap"
   ]
  },
  {
   "cell_type": "code",
   "execution_count": null,
   "metadata": {},
   "outputs": [],
   "source": [
    "last_10 = df.sort_values('market_cap', ascending=False).tail(10)\n",
    "ax = sns.barplot(\n",
    "    data=last_10,\n",
    "    x='market_cap',\n",
    "    y='name',\n",
    "    palette='viridis',  \n",
    "    edgecolor='black' \n",
    ")\n",
    "\n",
    "plt.xlabel('Market Capitalization (Millons USD)', fontsize=12, weight='bold')\n",
    "plt.ylabel('') \n",
    "plt.title('Top 10 Cryptos by Market Cap', fontsize=16, pad=20, weight='bold')"
   ]
  },
  {
   "attachments": {},
   "cell_type": "markdown",
   "metadata": {},
   "source": [
    "3. Market Share of Top 5 Cryptos using a Pie"
   ]
  },
  {
   "cell_type": "code",
   "execution_count": null,
   "metadata": {},
   "outputs": [],
   "source": [
    "plt.figure(figsize=(10,10))\n",
    "top_5 = df.sort_values('market_cap', ascending=False).head(5)\n",
    "plt.pie(top_5['market_cap'], labels=top_5['name'], autopct='%1.1f%%', \n",
    "        wedgeprops={'edgecolor':'black'}, startangle=90)\n",
    "plt.title('Market Share of Top 10 Cryptos', fontsize=14, pad=20)\n",
    "plt.show()"
   ]
  },
  {
   "attachments": {},
   "cell_type": "markdown",
   "metadata": {},
   "source": [
    "4. Correlation between Market Cap vs Current Price in all the Crypto Currencies"
   ]
  },
  {
   "cell_type": "code",
   "execution_count": null,
   "metadata": {},
   "outputs": [],
   "source": [
    "plt.figure(figsize=(12,7))\n",
    "sns.scatterplot(data=df, x='current_price', y='market_cap', hue='name', \n",
    "                size='market_cap', sizes=(20, 500), legend=False)\n",
    "plt.xscale('log')  \n",
    "plt.yscale('log') \n",
    "plt.title('Price vs Market Cap Relationship')\n",
    "plt.xlabel('Price (USD - Log Scale)')\n",
    "plt.ylabel('Market Cap (USD - Log Scale)')\n",
    "plt.grid(alpha=0.3)"
   ]
  },
  {
   "attachments": {},
   "cell_type": "markdown",
   "metadata": {},
   "source": [
    "**Conclusion:**\n",
    "\n",
    "There is no correlation between the market cap and current_price. A high market cap does not necessarily indicate a high price, as it can result from either a high price with limited supply or a low price with abundant supply."
   ]
  },
  {
   "attachments": {},
   "cell_type": "markdown",
   "metadata": {},
   "source": [
    "## 8. Closing"
   ]
  },
  {
   "cell_type": "code",
   "execution_count": null,
   "metadata": {},
   "outputs": [],
   "source": [
    "log_progress(\"Procces complete\")\n",
    "conn.close()\n",
    "log_progress(\"Server Connection closed\")"
   ]
  }
 ],
 "metadata": {
  "kernelspec": {
   "display_name": "base",
   "language": "python",
   "name": "python3"
  },
  "language_info": {
   "codemirror_mode": {
    "name": "ipython",
    "version": 3
   },
   "file_extension": ".py",
   "mimetype": "text/x-python",
   "name": "python",
   "nbconvert_exporter": "python",
   "pygments_lexer": "ipython3",
   "version": "3.11.5"
  },
  "orig_nbformat": 4,
  "vscode": {
   "interpreter": {
    "hash": "b0faa2996cdc2ec397ec18f3fcb31310a866f07fb5fcfee33b54fc5dcb8ef537"
   }
  }
 },
 "nbformat": 4,
 "nbformat_minor": 2
}
